{
 "cells": [
  {
   "cell_type": "code",
   "execution_count": 9,
   "id": "2b59e889-aae3-4f97-a286-28c30226b88f",
   "metadata": {},
   "outputs": [
    {
     "name": "stdout",
     "output_type": "stream",
     "text": [
      "The Maximum profit of buy and sell the stock is: 19\n"
     ]
    }
   ],
   "source": [
    "#Time Comaplexity-O(n)\n",
    "#Space Comaplexity-O(1)\n",
    "def findmaxProfit(prices):\n",
    "    min_price=float('inf')\n",
    "    max_profit=0\n",
    "    for i in range(len(prices)):\n",
    "        if prices[i]<min_price:\n",
    "            min_price=prices[i]\n",
    "        elif prices[i] - min_price> max_profit:\n",
    "            max_profit=prices[i]-min_price\n",
    "    return max_profit\n",
    "\n",
    "#Driver Code\n",
    "prices=[7,1,5,3,6,4,15,20]\n",
    "maxProfit=findmaxProfit(prices)\n",
    "print(\"The Maximum profit of buy and sell the stock is:\",maxProfit)"
   ]
  },
  {
   "cell_type": "code",
   "execution_count": null,
   "id": "44add451-f70a-43e0-9450-79da0ac58be6",
   "metadata": {},
   "outputs": [],
   "source": []
  }
 ],
 "metadata": {
  "kernelspec": {
   "display_name": "Python 3 (ipykernel)",
   "language": "python",
   "name": "python3"
  },
  "language_info": {
   "codemirror_mode": {
    "name": "ipython",
    "version": 3
   },
   "file_extension": ".py",
   "mimetype": "text/x-python",
   "name": "python",
   "nbconvert_exporter": "python",
   "pygments_lexer": "ipython3",
   "version": "3.12.4"
  }
 },
 "nbformat": 4,
 "nbformat_minor": 5
}
