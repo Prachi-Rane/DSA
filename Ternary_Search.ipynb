{
 "cells": [
  {
   "cell_type": "code",
   "execution_count": 22,
   "id": "db3c8acb-0272-46ca-9d9e-8daa7b6e6a75",
   "metadata": {},
   "outputs": [
    {
     "name": "stdin",
     "output_type": "stream",
     "text": [
      "Enter an Element to Search 10\n"
     ]
    },
    {
     "name": "stdout",
     "output_type": "stream",
     "text": [
      "Searched Element is Present as index 9\n"
     ]
    }
   ],
   "source": [
    "#Defination of a function\n",
    "#Time Complexity:O(log3n)\n",
    "def TernarySearch(arr,x,l,r):\n",
    "    while l<=r:\n",
    "        mid1=l+(r-l)//3\n",
    "        mid2=r-(r-l)//3\n",
    "        if x==arr[mid1]:\n",
    "            return mid1\n",
    "        elif x==arr[mid2]:\n",
    "            return mid2\n",
    "        #Searching Element in 1st Part\n",
    "        elif x< arr[mid1]:\n",
    "            return TernarySearch(arr,x,l,mid1-1)\n",
    "        #Searching Element in 3rd Part\n",
    "        elif x> arr[mid2]:\n",
    "            return TernarySearch(arr,x,mid2+1,r)\n",
    "        #Searching Element in 2nd Part\n",
    "        else:\n",
    "            return TernarySearch(arr,x,mid1+1,mid2-1)\n",
    "    return -1\n",
    "#Driver Code\n",
    "arr=[1,2,3,4,5,6,7,8,9,10]\n",
    "x=int(input(\"Enter an Element to Search\"))\n",
    "l=0\n",
    "r=len(arr)-1\n",
    "#Calling the Function\n",
    "result=TernarySearch(arr,x,l,r)\n",
    "print(\"Searched Element is Present as index\",result)"
   ]
  },
  {
   "cell_type": "code",
   "execution_count": null,
   "id": "29ddd9c5-7bd0-4794-8d45-d7d34f3e758a",
   "metadata": {},
   "outputs": [],
   "source": []
  }
 ],
 "metadata": {
  "kernelspec": {
   "display_name": "Python 3 (ipykernel)",
   "language": "python",
   "name": "python3"
  },
  "language_info": {
   "codemirror_mode": {
    "name": "ipython",
    "version": 3
   },
   "file_extension": ".py",
   "mimetype": "text/x-python",
   "name": "python",
   "nbconvert_exporter": "python",
   "pygments_lexer": "ipython3",
   "version": "3.12.4"
  }
 },
 "nbformat": 4,
 "nbformat_minor": 5
}
