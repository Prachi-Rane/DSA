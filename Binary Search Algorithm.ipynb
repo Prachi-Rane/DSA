{
 "cells": [
  {
   "cell_type": "code",
   "execution_count": 17,
   "id": "d652beb8-51d8-4fff-a7bc-7e6382d9f9ea",
   "metadata": {},
   "outputs": [
    {
     "name": "stdin",
     "output_type": "stream",
     "text": [
      "Enter a elemet to find into the Array 10\n"
     ]
    },
    {
     "name": "stdout",
     "output_type": "stream",
     "text": [
      "10 Elemet is present at  0 index\n"
     ]
    }
   ],
   "source": [
    "#Binary Search With Using Recusion\n",
    "#Time Complexity:O(logn)\n",
    "def binarySearch(arr,i,j,x):\n",
    "    while i<= j:\n",
    "        mid=i+(j-i)//2\n",
    "        if arr[mid]==x:\n",
    "            return mid\n",
    "        elif arr[mid]<x:\n",
    "            return binarySearch(arr,mid+1,j,x)\n",
    "        elif arr[mid]>x:\n",
    "            return binarySearch(arr,i,mid-1,x)\n",
    "        else:\n",
    "            return -1\n",
    "#Driver Code\n",
    "#sorted Array\n",
    "arr=[10,34,45,67,89,90,100]\n",
    "i=0\n",
    "j=len(arr)-1\n",
    "x=int(input(\"Enter a elemet to find into the Array\"))\n",
    "result=binarySearch(arr,i,j,x)\n",
    "print(x,\"Elemet is present at \",result,\"index\")"
   ]
  },
  {
   "cell_type": "code",
   "execution_count": 25,
   "id": "3a018755-45ca-4335-b83a-385d5abe9e86",
   "metadata": {},
   "outputs": [
    {
     "name": "stdin",
     "output_type": "stream",
     "text": [
      "Enter a elemet to find into the Array 10\n"
     ]
    },
    {
     "name": "stdout",
     "output_type": "stream",
     "text": [
      "10 Elemet is present at  0 index\n"
     ]
    }
   ],
   "source": [
    "#Binary Search Without Using Recursion\n",
    "def binarySearch(arr,i,j,x):\n",
    "    while i<= j:\n",
    "        mid=i+(j-i)//2\n",
    "        if arr[mid]==x:\n",
    "            return mid\n",
    "        elif arr[mid]<x:\n",
    "            i=mid+1\n",
    "        elif arr[mid]>x:\n",
    "            j=mid-1\n",
    "        else:\n",
    "            return -1\n",
    "#Driver Code\n",
    "#sorted Array\n",
    "arr=[10,34,45,67,89,90,100]\n",
    "i=0\n",
    "j=len(arr)-1\n",
    "x=int(input(\"Enter a elemet to find into the Array\"))\n",
    "result=binarySearch(arr,i,j,x)\n",
    "print(x,\"Elemet is present at \",result,\"index\")"
   ]
  },
  {
   "cell_type": "code",
   "execution_count": null,
   "id": "825d7cfc-f054-4c7c-909e-11476d6851e9",
   "metadata": {},
   "outputs": [],
   "source": []
  }
 ],
 "metadata": {
  "kernelspec": {
   "display_name": "Python 3 (ipykernel)",
   "language": "python",
   "name": "python3"
  },
  "language_info": {
   "codemirror_mode": {
    "name": "ipython",
    "version": 3
   },
   "file_extension": ".py",
   "mimetype": "text/x-python",
   "name": "python",
   "nbconvert_exporter": "python",
   "pygments_lexer": "ipython3",
   "version": "3.12.4"
  }
 },
 "nbformat": 4,
 "nbformat_minor": 5
}
