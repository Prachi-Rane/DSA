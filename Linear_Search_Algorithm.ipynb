{
 "cells": [
  {
   "cell_type": "code",
   "execution_count": 5,
   "id": "2837398e-c8cb-4a8c-a4d3-b0e12fe799cf",
   "metadata": {},
   "outputs": [
    {
     "name": "stdout",
     "output_type": "stream",
     "text": [
      "15\n"
     ]
    }
   ],
   "source": [
    "def sum_of_no(lst):\n",
    "    total=0\n",
    "    for i in lst:\n",
    "        total+=i\n",
    "    return total\n",
    "lst=[1,2,3,4,5]\n",
    "result=sum_of_no(lst)\n",
    "print(result)"
   ]
  },
  {
   "cell_type": "code",
   "execution_count": 7,
   "id": "6730c671-b45d-4924-8bf1-2d1f8224d7d9",
   "metadata": {},
   "outputs": [
    {
     "name": "stdout",
     "output_type": "stream",
     "text": [
      "15.0\n"
     ]
    }
   ],
   "source": [
    "def sum_of_no(lst):\n",
    "    n=len(lst)\n",
    "    total=(n*(n+1))/2\n",
    "    return total\n",
    "lst=[1,2,3,4,5]\n",
    "result=sum_of_no(lst)\n",
    "print(result)"
   ]
  },
  {
   "cell_type": "code",
   "execution_count": 41,
   "id": "8ffbc4b8-652b-468a-bc81-d2a68968dcba",
   "metadata": {},
   "outputs": [
    {
     "name": "stdout",
     "output_type": "stream",
     "text": [
      "Searching element is present at the index 6\n"
     ]
    }
   ],
   "source": [
    "def linearsearch(arr,x):\n",
    "    for i in range(len(arr)):\n",
    "        if arr[i] == x:\n",
    "            return i\n",
    "    return -1\n",
    "#drivers code\n",
    "arr=[2,1,8,9,12,11,15,19]\n",
    "x=15\n",
    "result=linearsearch(arr,x)\n",
    "print(\"Searching element is present at the index\",result)"
   ]
  },
  {
   "cell_type": "code",
   "execution_count": null,
   "id": "f7acf3cf-231d-4b11-9455-5cca885e2679",
   "metadata": {},
   "outputs": [],
   "source": []
  }
 ],
 "metadata": {
  "kernelspec": {
   "display_name": "Python 3 (ipykernel)",
   "language": "python",
   "name": "python3"
  },
  "language_info": {
   "codemirror_mode": {
    "name": "ipython",
    "version": 3
   },
   "file_extension": ".py",
   "mimetype": "text/x-python",
   "name": "python",
   "nbconvert_exporter": "python",
   "pygments_lexer": "ipython3",
   "version": "3.12.4"
  }
 },
 "nbformat": 4,
 "nbformat_minor": 5
}
