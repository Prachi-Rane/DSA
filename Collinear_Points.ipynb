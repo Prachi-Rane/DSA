{
 "cells": [
  {
   "cell_type": "code",
   "execution_count": 28,
   "id": "8a918710-66b7-484a-a03e-05ad27b8a1ec",
   "metadata": {},
   "outputs": [
    {
     "name": "stdout",
     "output_type": "stream",
     "text": [
      "Not Collinear\n"
     ]
    }
   ],
   "source": [
    "#Approach 1:Using Slope Concept\n",
    "# TC:O(1)\n",
    "#SC:O(1)\n",
    "def iscollinearPoint(x1,x2,x3,y1,y2,y3):\n",
    "    if (y2-y1)*(x3-x2)==(y3-y2)*(x2-x1):\n",
    "        print(\"Its Collinear\")\n",
    "    else:\n",
    "        print(\"Not Collinear\")\n",
    "#Driver Code\n",
    "x1,x2,x3,y1,y2,y3=1,2,3,6,0,9\n",
    "iscollinearPoint(x1,x2,x3,y1,y2,y3)"
   ]
  },
  {
   "cell_type": "code",
   "execution_count": 26,
   "id": "8a839b30-b096-41a0-81f8-2c67eb40c859",
   "metadata": {},
   "outputs": [
    {
     "name": "stdout",
     "output_type": "stream",
     "text": [
      "Its Not Collinear\n"
     ]
    }
   ],
   "source": [
    "#Approach 1:Using Slope Concept\n",
    "# TC:O(1)\n",
    "#SC:O(1)\n",
    "def iscollinearPoint(x1,x2,x3,y1,y2,y3):\n",
    "    area=0.5*(x1*(y2-y3)+x2*(y3-y1)+x3*(y1-y2))\n",
    "    if area==0:\n",
    "        print(\"The Points are Collinear\")\n",
    "    else:\n",
    "        print(\"Its Not Collinear\")\n",
    "#Driver Code\n",
    "x1,x2,x3,y1,y2,y3=1,2,3,6,0,9\n",
    "iscollinearPoint(x1,x2,x3,y1,y2,y3)"
   ]
  },
  {
   "cell_type": "code",
   "execution_count": null,
   "id": "5f10c373-7df1-4f5c-a352-0c988ce5150e",
   "metadata": {},
   "outputs": [],
   "source": []
  }
 ],
 "metadata": {
  "kernelspec": {
   "display_name": "Python 3 (ipykernel)",
   "language": "python",
   "name": "python3"
  },
  "language_info": {
   "codemirror_mode": {
    "name": "ipython",
    "version": 3
   },
   "file_extension": ".py",
   "mimetype": "text/x-python",
   "name": "python",
   "nbconvert_exporter": "python",
   "pygments_lexer": "ipython3",
   "version": "3.12.4"
  }
 },
 "nbformat": 4,
 "nbformat_minor": 5
}
