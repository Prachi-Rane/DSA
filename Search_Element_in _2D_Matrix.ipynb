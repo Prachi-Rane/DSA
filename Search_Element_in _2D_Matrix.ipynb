{
 "cells": [
  {
   "cell_type": "code",
   "execution_count": 10,
   "id": "9d0bb046-1ec6-4964-8146-9f0082dd4908",
   "metadata": {},
   "outputs": [
    {
     "name": "stdin",
     "output_type": "stream",
     "text": [
      "Enter a Number to Search 10\n"
     ]
    },
    {
     "name": "stdout",
     "output_type": "stream",
     "text": [
      "True\n"
     ]
    }
   ],
   "source": [
    "#Define a Function\n",
    "def Search_Element_2D_Matrix(Matrix,target):\n",
    "    #number of rows\n",
    "    m=len(Matrix)\n",
    "    #number of columns\n",
    "    n=len(Matrix[0])\n",
    "    if m== 0:\n",
    "        return False\n",
    "    left,right=0,n*m-1\n",
    "    while left<=right:\n",
    "        mid=left+(right-left)//2\n",
    "        mid_element=Matrix[mid//n][mid%n]\n",
    "        if mid_element==target:\n",
    "            return True\n",
    "        elif target < mid_element:\n",
    "            right=mid-1\n",
    "        else:\n",
    "            left=mid+1\n",
    "    return False\n",
    "#DriverCode\n",
    "Matrix=[[1,3,5,7],[10,11,16,20],[23,30,34,60]]\n",
    "target=int(input(\"Enter a Number to Search\"))\n",
    "#Calling a Function\n",
    "result=Search_Element_2D_Matrix(Matrix,target)\n",
    "print(result)"
   ]
  },
  {
   "cell_type": "code",
   "execution_count": null,
   "id": "d8c07cf9-0ff7-44c0-91c6-1bc21589507d",
   "metadata": {},
   "outputs": [],
   "source": []
  },
  {
   "cell_type": "code",
   "execution_count": null,
   "id": "eea0534d-6a84-4c48-a7e8-813ee7790039",
   "metadata": {},
   "outputs": [],
   "source": []
  }
 ],
 "metadata": {
  "kernelspec": {
   "display_name": "Python 3 (ipykernel)",
   "language": "python",
   "name": "python3"
  },
  "language_info": {
   "codemirror_mode": {
    "name": "ipython",
    "version": 3
   },
   "file_extension": ".py",
   "mimetype": "text/x-python",
   "name": "python",
   "nbconvert_exporter": "python",
   "pygments_lexer": "ipython3",
   "version": "3.12.4"
  }
 },
 "nbformat": 4,
 "nbformat_minor": 5
}
