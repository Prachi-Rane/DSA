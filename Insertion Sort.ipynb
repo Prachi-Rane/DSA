{
 "cells": [
  {
   "cell_type": "code",
   "execution_count": 11,
   "id": "7df7d34c-0730-4554-9f9f-5c2bb5bdea66",
   "metadata": {},
   "outputs": [
    {
     "name": "stdout",
     "output_type": "stream",
     "text": [
      "Sorted Array is [1, 2, 3, 4, 5, 9]\n"
     ]
    }
   ],
   "source": [
    "#Insertion Sort\n",
    "#Time Complexity-O(n*2)\n",
    "def Insertion_Sort(arr):\n",
    "    for i in range(1,len(arr)):\n",
    "        key=arr[i]\n",
    "        j=i-1\n",
    "        while j>=0 and key<arr[j]:\n",
    "            arr[j+1]=arr[j]\n",
    "            j=j-1\n",
    "        arr[j+1]=key\n",
    "    return arr\n",
    "#Diver Code\n",
    "arr=[9,5,2,4,3,1]\n",
    "result=Insertion_Sort(arr)\n",
    "print(\"Sorted Array is\",result)"
   ]
  },
  {
   "cell_type": "code",
   "execution_count": null,
   "id": "97ee08ec-f8e4-491b-b1b4-b96abc8af4a0",
   "metadata": {},
   "outputs": [],
   "source": []
  }
 ],
 "metadata": {
  "kernelspec": {
   "display_name": "Python 3 (ipykernel)",
   "language": "python",
   "name": "python3"
  },
  "language_info": {
   "codemirror_mode": {
    "name": "ipython",
    "version": 3
   },
   "file_extension": ".py",
   "mimetype": "text/x-python",
   "name": "python",
   "nbconvert_exporter": "python",
   "pygments_lexer": "ipython3",
   "version": "3.12.4"
  }
 },
 "nbformat": 4,
 "nbformat_minor": 5
}
