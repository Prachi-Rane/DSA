{
 "cells": [
  {
   "cell_type": "code",
   "execution_count": 7,
   "id": "486cc3e8-16bd-4f5b-9bdf-f00e2f6fe4e8",
   "metadata": {},
   "outputs": [
    {
     "name": "stdout",
     "output_type": "stream",
     "text": [
      "[0, 0, 1, 1, 2, 2]\n"
     ]
    }
   ],
   "source": [
    "#Sort Color\n",
    "#TC:O(n)\n",
    "#SC:O(1)\n",
    "#let be the Colors represemted as Red-0,Blue-1,Green-2\n",
    "#Two Pointers Method\n",
    "def SortColor(nums):\n",
    "    p0=curr=0\n",
    "    p2=len(nums)-1\n",
    "    while curr <=p2:\n",
    "        if nums[curr]==0:\n",
    "            nums[p0],nums[curr]=nums[curr],nums[p0]\n",
    "            p0+=1\n",
    "            curr+=1\n",
    "        elif nums[curr]==2:\n",
    "            nums[p2],nums[curr]=nums[curr],nums[p2]\n",
    "            p2-=1\n",
    "            curr+1\n",
    "        else:\n",
    "            curr+=1\n",
    "    return nums\n",
    "#Driver Code\n",
    "nums=[1,2,0,1,2,0]\n",
    "result=SortColor(nums)\n",
    "print(result)"
   ]
  },
  {
   "cell_type": "code",
   "execution_count": null,
   "id": "726e06c6-f304-4271-b310-a1fb3333dc06",
   "metadata": {},
   "outputs": [],
   "source": []
  }
 ],
 "metadata": {
  "kernelspec": {
   "display_name": "Python 3 (ipykernel)",
   "language": "python",
   "name": "python3"
  },
  "language_info": {
   "codemirror_mode": {
    "name": "ipython",
    "version": 3
   },
   "file_extension": ".py",
   "mimetype": "text/x-python",
   "name": "python",
   "nbconvert_exporter": "python",
   "pygments_lexer": "ipython3",
   "version": "3.12.4"
  }
 },
 "nbformat": 4,
 "nbformat_minor": 5
}
