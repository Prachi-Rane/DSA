{
 "cells": [
  {
   "cell_type": "code",
   "execution_count": 17,
   "id": "a70b5cf1-0812-4e0f-986a-84e4fee290f5",
   "metadata": {},
   "outputs": [
    {
     "name": "stdout",
     "output_type": "stream",
     "text": [
      "Selection Sort of the given array elements is: [19, 27, 29, 38, 45, 50, 79]\n"
     ]
    }
   ],
   "source": [
    "def Selection_Sort(arr):\n",
    "    for i in range(n):\n",
    "        min=i\n",
    "        for j in range(i+1,n):\n",
    "            if arr[j]<arr[min]:\n",
    "                min=j\n",
    "        arr[i],arr[min]=arr[min],arr[i]\n",
    "    return arr\n",
    "\n",
    "\n",
    "#Driver Code\n",
    "arr=[50,38,45,79,19,27,29]\n",
    "n=len(arr)\n",
    "result=Selection_Sort(arr)\n",
    "print(\"Selection Sort of the given array elements is:\",result)"
   ]
  },
  {
   "cell_type": "code",
   "execution_count": null,
   "id": "5f261d98-d3e4-4a2d-bb9b-01d8efa35e5e",
   "metadata": {},
   "outputs": [],
   "source": []
  }
 ],
 "metadata": {
  "kernelspec": {
   "display_name": "Python 3 (ipykernel)",
   "language": "python",
   "name": "python3"
  },
  "language_info": {
   "codemirror_mode": {
    "name": "ipython",
    "version": 3
   },
   "file_extension": ".py",
   "mimetype": "text/x-python",
   "name": "python",
   "nbconvert_exporter": "python",
   "pygments_lexer": "ipython3",
   "version": "3.12.4"
  }
 },
 "nbformat": 4,
 "nbformat_minor": 5
}
