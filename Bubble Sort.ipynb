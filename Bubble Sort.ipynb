{
 "cells": [
  {
   "cell_type": "code",
   "execution_count": 1,
   "id": "9680f540-aaf0-4d07-a9e5-84ac833648a2",
   "metadata": {},
   "outputs": [
    {
     "name": "stdout",
     "output_type": "stream",
     "text": [
      "Array after Sorting is [5, 15, 20, 30, 50, 70, 90]\n"
     ]
    }
   ],
   "source": [
    "def Bubble_sort(arr):\n",
    "    n=len(arr)\n",
    "    for i in range(n):\n",
    "        for j in range(0,n-i-1):\n",
    "            if arr[j]>arr[j+1]:\n",
    "                arr[j],arr[j+1]=arr[j+1],arr[j]\n",
    "    return arr\n",
    "            \n",
    "    \n",
    "#Driver Code\n",
    "arr=[70,20,50,30,90,5,15]\n",
    "result=Bubble_sort(arr)\n",
    "print(\"Array after Sorting is\",result)"
   ]
  },
  {
   "cell_type": "code",
   "execution_count": null,
   "id": "cbc98a27-5f5c-495c-8cb3-41e1c4d76378",
   "metadata": {},
   "outputs": [],
   "source": []
  }
 ],
 "metadata": {
  "kernelspec": {
   "display_name": "Python 3 (ipykernel)",
   "language": "python",
   "name": "python3"
  },
  "language_info": {
   "codemirror_mode": {
    "name": "ipython",
    "version": 3
   },
   "file_extension": ".py",
   "mimetype": "text/x-python",
   "name": "python",
   "nbconvert_exporter": "python",
   "pygments_lexer": "ipython3",
   "version": "3.12.4"
  }
 },
 "nbformat": 4,
 "nbformat_minor": 5
}
